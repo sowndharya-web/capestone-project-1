{
 "cells": [
  {
   "cell_type": "code",
   "execution_count": 1,
   "id": "96d706e8-95fa-450b-a30f-08486b0374d3",
   "metadata": {},
   "outputs": [
    {
     "name": "stdout",
     "output_type": "stream",
     "text": [
      "Requirement already satisfied: mysql-connector-python in c:\\users\\user\\appdata\\local\\programs\\python\\python312\\lib\\site-packages (9.0.0)\n"
     ]
    },
    {
     "name": "stderr",
     "output_type": "stream",
     "text": [
      "\n",
      "[notice] A new release of pip is available: 24.0 -> 24.2\n",
      "[notice] To update, run: python.exe -m pip install --upgrade pip\n"
     ]
    }
   ],
   "source": [
    "!pip install mysql-connector-python\n"
   ]
  },
  {
   "cell_type": "code",
   "execution_count": 2,
   "id": "c3e5ea8e-1432-4e68-808c-5ffb2b27c22e",
   "metadata": {},
   "outputs": [],
   "source": [
    "#importing libraries\n",
    "import pandas as pd\n",
    "import numpy as np\n",
    "import mysql.connector"
   ]
  },
  {
   "cell_type": "code",
   "execution_count": 3,
   "id": "0274eb3c-754d-40aa-a775-50a4d58cf4ff",
   "metadata": {},
   "outputs": [],
   "source": [
    "#reading the csv file:\n",
    "df_buses_1=pd.read_csv(\"df_buses_1.csv\")\n",
    "df_buses_2=pd.read_csv(\"df_buses_2.csv\")\n",
    "df_buses_3=pd.read_csv(\"df_buses_3.csv\")\n",
    "df_buses_4=pd.read_csv(\"df_buses_4.csv\")\n",
    "df_buses_5=pd.read_csv(\"df_buses_5.csv\")\n",
    "df_buses_6=pd.read_csv(\"df_buses_6.csv\")\n",
    "df_buses_7=pd.read_csv(\"df_buses_7.csv\")\n",
    "df_buses_8=pd.read_csv(\"df_buses_8.csv\")\n",
    "df_buses_9=pd.read_csv(\"df_buses_9.csv\")\n",
    "df_buses_10=pd.read_csv(\"df_buses_10.csv\")\n"
   ]
  },
  {
   "cell_type": "code",
   "execution_count": 4,
   "id": "b6c0f9eb-da31-49b4-9d49-6e9b1770f5d6",
   "metadata": {},
   "outputs": [],
   "source": [
    "final_df=pd.concat([df_buses_1,df_buses_2,df_buses_3,df_buses_4,df_buses_5,df_buses_6,df_buses_7,df_buses_8,df_buses_9,df_buses_10],ignore_index=True)"
   ]
  },
  {
   "cell_type": "code",
   "execution_count": 5,
   "id": "6e349562-f0b4-4e38-a394-f7781c481ef7",
   "metadata": {},
   "outputs": [
    {
     "data": {
      "text/html": [
       "<div>\n",
       "<style scoped>\n",
       "    .dataframe tbody tr th:only-of-type {\n",
       "        vertical-align: middle;\n",
       "    }\n",
       "\n",
       "    .dataframe tbody tr th {\n",
       "        vertical-align: top;\n",
       "    }\n",
       "\n",
       "    .dataframe thead th {\n",
       "        text-align: right;\n",
       "    }\n",
       "</style>\n",
       "<table border=\"1\" class=\"dataframe\">\n",
       "  <thead>\n",
       "    <tr style=\"text-align: right;\">\n",
       "      <th></th>\n",
       "      <th>Bus_name</th>\n",
       "      <th>Bus_type</th>\n",
       "      <th>Start_time</th>\n",
       "      <th>End_time</th>\n",
       "      <th>Time_Duration</th>\n",
       "      <th>Rating</th>\n",
       "      <th>Prices</th>\n",
       "      <th>Seat_Availability</th>\n",
       "      <th>Route_name</th>\n",
       "      <th>Route_link</th>\n",
       "      <th>Links</th>\n",
       "    </tr>\n",
       "  </thead>\n",
       "  <tbody>\n",
       "    <tr>\n",
       "      <th>0</th>\n",
       "      <td>MMK Travels</td>\n",
       "      <td>VE A/C Seater / Sleeper (2+1)</td>\n",
       "      <td>22:30</td>\n",
       "      <td>07:30</td>\n",
       "      <td>09h 00m</td>\n",
       "      <td>4.4\\n468</td>\n",
       "      <td>INR 700</td>\n",
       "      <td>13 Seats available</td>\n",
       "      <td>Bangalore to Kozhikode</td>\n",
       "      <td>https://www.redbus.in/bus-tickets/bangalore-to...</td>\n",
       "      <td>NaN</td>\n",
       "    </tr>\n",
       "    <tr>\n",
       "      <th>1</th>\n",
       "      <td>Kyros Connect</td>\n",
       "      <td>Bharat Benz A/C Semi Sleeper (2+2)</td>\n",
       "      <td>23:00</td>\n",
       "      <td>09:00</td>\n",
       "      <td>10h 00m</td>\n",
       "      <td>4.2\\n330</td>\n",
       "      <td>INR 599</td>\n",
       "      <td>26 Seats available</td>\n",
       "      <td>Bangalore to Kozhikode</td>\n",
       "      <td>https://www.redbus.in/bus-tickets/bangalore-to...</td>\n",
       "      <td>NaN</td>\n",
       "    </tr>\n",
       "    <tr>\n",
       "      <th>2</th>\n",
       "      <td>NS Transports</td>\n",
       "      <td>VE A/C Sleeper (2+1)</td>\n",
       "      <td>22:45</td>\n",
       "      <td>07:30</td>\n",
       "      <td>08h 45m</td>\n",
       "      <td>4.1\\n294</td>\n",
       "      <td>INR 1000</td>\n",
       "      <td>2 Seats available</td>\n",
       "      <td>Bangalore to Kozhikode</td>\n",
       "      <td>https://www.redbus.in/bus-tickets/bangalore-to...</td>\n",
       "      <td>NaN</td>\n",
       "    </tr>\n",
       "    <tr>\n",
       "      <th>3</th>\n",
       "      <td>AdSAAM BUS</td>\n",
       "      <td>Bharat Benz A/C Sleeper (2+1)</td>\n",
       "      <td>20:10</td>\n",
       "      <td>06:45</td>\n",
       "      <td>10h 35m</td>\n",
       "      <td>4.1\\n97</td>\n",
       "      <td>785</td>\n",
       "      <td>3 Seats available</td>\n",
       "      <td>Bangalore to Kozhikode</td>\n",
       "      <td>https://www.redbus.in/bus-tickets/bangalore-to...</td>\n",
       "      <td>NaN</td>\n",
       "    </tr>\n",
       "    <tr>\n",
       "      <th>4</th>\n",
       "      <td>NS Transports</td>\n",
       "      <td>Non A/C Seater / Sleeper (2+1)</td>\n",
       "      <td>21:45</td>\n",
       "      <td>06:10</td>\n",
       "      <td>08h 25m</td>\n",
       "      <td>4.1\\n288</td>\n",
       "      <td>INR 699</td>\n",
       "      <td>9 Seats available</td>\n",
       "      <td>Bangalore to Kozhikode</td>\n",
       "      <td>https://www.redbus.in/bus-tickets/bangalore-to...</td>\n",
       "      <td>NaN</td>\n",
       "    </tr>\n",
       "    <tr>\n",
       "      <th>...</th>\n",
       "      <td>...</td>\n",
       "      <td>...</td>\n",
       "      <td>...</td>\n",
       "      <td>...</td>\n",
       "      <td>...</td>\n",
       "      <td>...</td>\n",
       "      <td>...</td>\n",
       "      <td>...</td>\n",
       "      <td>...</td>\n",
       "      <td>...</td>\n",
       "      <td>...</td>\n",
       "    </tr>\n",
       "    <tr>\n",
       "      <th>1487</th>\n",
       "      <td>Jain travels regd</td>\n",
       "      <td>AC Sleeper (2+1)</td>\n",
       "      <td>15:15</td>\n",
       "      <td>20:00</td>\n",
       "      <td>04h 45m</td>\n",
       "      <td>3.3\\n28</td>\n",
       "      <td>INR 500</td>\n",
       "      <td>NaN</td>\n",
       "      <td>Jammu (j and k) to Amritsar</td>\n",
       "      <td>https://www.redbus.in/bus-tickets/jammu-to-amr...</td>\n",
       "      <td>https://www.redbus.in/bus-tickets/jammu-to-amr...</td>\n",
       "    </tr>\n",
       "    <tr>\n",
       "      <th>1488</th>\n",
       "      <td>AdBhawani Travels</td>\n",
       "      <td>Bharat Benz A/C Seater (2+2)</td>\n",
       "      <td>18:30</td>\n",
       "      <td>23:15</td>\n",
       "      <td>04h 45m</td>\n",
       "      <td>3.8\\n135</td>\n",
       "      <td>INR 299</td>\n",
       "      <td>NaN</td>\n",
       "      <td>Jammu (j and k) to Amritsar</td>\n",
       "      <td>https://www.redbus.in/bus-tickets/jammu-to-amr...</td>\n",
       "      <td>https://www.redbus.in/bus-tickets/jammu-to-amr...</td>\n",
       "    </tr>\n",
       "    <tr>\n",
       "      <th>1489</th>\n",
       "      <td>Bhawani Travels</td>\n",
       "      <td>Bharat Benz A/C Seater (2+2)</td>\n",
       "      <td>16:30</td>\n",
       "      <td>21:05</td>\n",
       "      <td>04h 35m</td>\n",
       "      <td>3.3\\n176</td>\n",
       "      <td>INR 299</td>\n",
       "      <td>NaN</td>\n",
       "      <td>Jammu (j and k) to Amritsar</td>\n",
       "      <td>https://www.redbus.in/bus-tickets/jammu-to-amr...</td>\n",
       "      <td>https://www.redbus.in/bus-tickets/jammu-to-amr...</td>\n",
       "    </tr>\n",
       "    <tr>\n",
       "      <th>1490</th>\n",
       "      <td>Jamna Travels-Jammu</td>\n",
       "      <td>A/C Seater / Sleeper (2+2)</td>\n",
       "      <td>22:30</td>\n",
       "      <td>03:45</td>\n",
       "      <td>05h 15m</td>\n",
       "      <td>3.4\\n34</td>\n",
       "      <td>369</td>\n",
       "      <td>NaN</td>\n",
       "      <td>Jammu (j and k) to Amritsar</td>\n",
       "      <td>https://www.redbus.in/bus-tickets/jammu-to-amr...</td>\n",
       "      <td>https://www.redbus.in/bus-tickets/jammu-to-amr...</td>\n",
       "    </tr>\n",
       "    <tr>\n",
       "      <th>1491</th>\n",
       "      <td>Vijay Tour and Travels</td>\n",
       "      <td>AC Sleeper (2+1)</td>\n",
       "      <td>15:00</td>\n",
       "      <td>08:50</td>\n",
       "      <td>17h 50m</td>\n",
       "      <td>3.2\\n14</td>\n",
       "      <td>1480</td>\n",
       "      <td>25 Seats available</td>\n",
       "      <td>Ajmer to Jammu (j and k)</td>\n",
       "      <td>https://www.redbus.in/bus-tickets/ajmer-to-jammu</td>\n",
       "      <td>https://www.redbus.in/bus-tickets/ajmer-to-jammu</td>\n",
       "    </tr>\n",
       "  </tbody>\n",
       "</table>\n",
       "<p>1492 rows × 11 columns</p>\n",
       "</div>"
      ],
      "text/plain": [
       "                    Bus_name                            Bus_type Start_time  \\\n",
       "0                MMK Travels       VE A/C Seater / Sleeper (2+1)      22:30   \n",
       "1              Kyros Connect  Bharat Benz A/C Semi Sleeper (2+2)      23:00   \n",
       "2              NS Transports                VE A/C Sleeper (2+1)      22:45   \n",
       "3                 AdSAAM BUS       Bharat Benz A/C Sleeper (2+1)      20:10   \n",
       "4              NS Transports      Non A/C Seater / Sleeper (2+1)      21:45   \n",
       "...                      ...                                 ...        ...   \n",
       "1487       Jain travels regd                    AC Sleeper (2+1)      15:15   \n",
       "1488       AdBhawani Travels        Bharat Benz A/C Seater (2+2)      18:30   \n",
       "1489         Bhawani Travels        Bharat Benz A/C Seater (2+2)      16:30   \n",
       "1490     Jamna Travels-Jammu          A/C Seater / Sleeper (2+2)      22:30   \n",
       "1491  Vijay Tour and Travels                    AC Sleeper (2+1)      15:00   \n",
       "\n",
       "     End_time Time_Duration    Rating    Prices   Seat_Availability  \\\n",
       "0       07:30       09h 00m  4.4\\n468   INR 700  13 Seats available   \n",
       "1       09:00       10h 00m  4.2\\n330   INR 599  26 Seats available   \n",
       "2       07:30       08h 45m  4.1\\n294  INR 1000   2 Seats available   \n",
       "3       06:45       10h 35m   4.1\\n97       785   3 Seats available   \n",
       "4       06:10       08h 25m  4.1\\n288   INR 699   9 Seats available   \n",
       "...       ...           ...       ...       ...                 ...   \n",
       "1487    20:00       04h 45m   3.3\\n28   INR 500                 NaN   \n",
       "1488    23:15       04h 45m  3.8\\n135   INR 299                 NaN   \n",
       "1489    21:05       04h 35m  3.3\\n176   INR 299                 NaN   \n",
       "1490    03:45       05h 15m   3.4\\n34       369                 NaN   \n",
       "1491    08:50       17h 50m   3.2\\n14      1480  25 Seats available   \n",
       "\n",
       "                       Route_name  \\\n",
       "0          Bangalore to Kozhikode   \n",
       "1          Bangalore to Kozhikode   \n",
       "2          Bangalore to Kozhikode   \n",
       "3          Bangalore to Kozhikode   \n",
       "4          Bangalore to Kozhikode   \n",
       "...                           ...   \n",
       "1487  Jammu (j and k) to Amritsar   \n",
       "1488  Jammu (j and k) to Amritsar   \n",
       "1489  Jammu (j and k) to Amritsar   \n",
       "1490  Jammu (j and k) to Amritsar   \n",
       "1491     Ajmer to Jammu (j and k)   \n",
       "\n",
       "                                             Route_link  \\\n",
       "0     https://www.redbus.in/bus-tickets/bangalore-to...   \n",
       "1     https://www.redbus.in/bus-tickets/bangalore-to...   \n",
       "2     https://www.redbus.in/bus-tickets/bangalore-to...   \n",
       "3     https://www.redbus.in/bus-tickets/bangalore-to...   \n",
       "4     https://www.redbus.in/bus-tickets/bangalore-to...   \n",
       "...                                                 ...   \n",
       "1487  https://www.redbus.in/bus-tickets/jammu-to-amr...   \n",
       "1488  https://www.redbus.in/bus-tickets/jammu-to-amr...   \n",
       "1489  https://www.redbus.in/bus-tickets/jammu-to-amr...   \n",
       "1490  https://www.redbus.in/bus-tickets/jammu-to-amr...   \n",
       "1491   https://www.redbus.in/bus-tickets/ajmer-to-jammu   \n",
       "\n",
       "                                                  Links  \n",
       "0                                                   NaN  \n",
       "1                                                   NaN  \n",
       "2                                                   NaN  \n",
       "3                                                   NaN  \n",
       "4                                                   NaN  \n",
       "...                                                 ...  \n",
       "1487  https://www.redbus.in/bus-tickets/jammu-to-amr...  \n",
       "1488  https://www.redbus.in/bus-tickets/jammu-to-amr...  \n",
       "1489  https://www.redbus.in/bus-tickets/jammu-to-amr...  \n",
       "1490  https://www.redbus.in/bus-tickets/jammu-to-amr...  \n",
       "1491   https://www.redbus.in/bus-tickets/ajmer-to-jammu  \n",
       "\n",
       "[1492 rows x 11 columns]"
      ]
     },
     "execution_count": 5,
     "metadata": {},
     "output_type": "execute_result"
    }
   ],
   "source": [
    "final_df"
   ]
  },
  {
   "cell_type": "code",
   "execution_count": 6,
   "id": "d96763fa-f027-4012-8c9a-5abf077aa39d",
   "metadata": {},
   "outputs": [
    {
     "name": "stdout",
     "output_type": "stream",
     "text": [
      "<class 'pandas.core.frame.DataFrame'>\n",
      "RangeIndex: 1492 entries, 0 to 1491\n",
      "Data columns (total 11 columns):\n",
      " #   Column             Non-Null Count  Dtype \n",
      "---  ------             --------------  ----- \n",
      " 0   Bus_name           1465 non-null   object\n",
      " 1   Bus_type           1459 non-null   object\n",
      " 2   Start_time         1465 non-null   object\n",
      " 3   End_time           1465 non-null   object\n",
      " 4   Time_Duration      1465 non-null   object\n",
      " 5   Rating             1464 non-null   object\n",
      " 6   Prices             1461 non-null   object\n",
      " 7   Seat_Availability  1028 non-null   object\n",
      " 8   Route_name         1492 non-null   object\n",
      " 9   Route_link         1492 non-null   object\n",
      " 10  Links              942 non-null    object\n",
      "dtypes: object(11)\n",
      "memory usage: 128.3+ KB\n"
     ]
    }
   ],
   "source": [
    "final_df.info()"
   ]
  },
  {
   "cell_type": "code",
   "execution_count": 7,
   "id": "04dfc616-9aa3-4686-923e-12b832b4f0cb",
   "metadata": {},
   "outputs": [],
   "source": [
    "final_df=final_df.drop([\"Links\"],axis=1)"
   ]
  },
  {
   "cell_type": "code",
   "execution_count": 8,
   "id": "b0297da3-fbc1-4a03-8181-14b9fad37043",
   "metadata": {},
   "outputs": [
    {
     "name": "stderr",
     "output_type": "stream",
     "text": [
      "C:\\Users\\USER\\AppData\\Local\\Temp\\ipykernel_13592\\532182766.py:6: FutureWarning: A value is trying to be set on a copy of a DataFrame or Series through chained assignment using an inplace method.\n",
      "The behavior will change in pandas 3.0. This inplace method will never work because the intermediate object on which we are setting values always behaves as a copy.\n",
      "\n",
      "For example, when doing 'df[col].method(value, inplace=True)', try using 'df.method({col: value}, inplace=True)' or df[col] = df[col].method(value) instead, to perform the operation inplace on the original object.\n",
      "\n",
      "\n",
      "  final_df[\"Prices\"].fillna(0, inplace=True)\n"
     ]
    }
   ],
   "source": [
    "#converting prices to numeric:\n",
    "\n",
    "final_df[\"Prices\"] = final_df[\"Prices\"].astype(str)\n",
    "final_df[\"Prices\"]=final_df[\"Prices\"].str.replace(\"INR\",\"\")\n",
    "final_df[\"Prices\"] = pd.to_numeric(final_df[\"Prices\"], errors='coerce')\n",
    "final_df[\"Prices\"].fillna(0, inplace=True)\n"
   ]
  },
  {
   "cell_type": "code",
   "execution_count": 9,
   "id": "ba5c2d68-2c5a-464a-b908-09d36b9b186a",
   "metadata": {},
   "outputs": [
    {
     "name": "stderr",
     "output_type": "stream",
     "text": [
      "C:\\Users\\USER\\AppData\\Local\\Temp\\ipykernel_13592\\453465963.py:6: FutureWarning: A value is trying to be set on a copy of a DataFrame or Series through chained assignment using an inplace method.\n",
      "The behavior will change in pandas 3.0. This inplace method will never work because the intermediate object on which we are setting values always behaves as a copy.\n",
      "\n",
      "For example, when doing 'df[col].method(value, inplace=True)', try using 'df.method({col: value}, inplace=True)' or df[col] = df[col].method(value) instead, to perform the operation inplace on the original object.\n",
      "\n",
      "\n",
      "  final_df[\"Rating\"].fillna(0,inplace=True)\n"
     ]
    }
   ],
   "source": [
    "#converting ratings into numeric\n",
    "final_df[\"Rating\"]=final_df[\"Rating\"].str.replace(\"New\",\"\")\n",
    "final_df[\"Rating\"]=final_df[\"Rating\"].str.strip()\n",
    "final_df[\"Rating\"]=final_df[\"Rating\"].str.split().str[0]\n",
    "final_df[\"Rating\"]=pd.to_numeric(final_df[\"Rating\"],errors='coerce')\n",
    "final_df[\"Rating\"].fillna(0,inplace=True)"
   ]
  },
  {
   "cell_type": "code",
   "execution_count": 13,
   "id": "259cc9ba-8207-4d10-b8c6-aa38f20211c9",
   "metadata": {},
   "outputs": [
    {
     "data": {
      "text/plain": [
       "0       13 Seats available\n",
       "1       26 Seats available\n",
       "2        2 Seats available\n",
       "3        3 Seats available\n",
       "4        9 Seats available\n",
       "               ...        \n",
       "1487                    NA\n",
       "1488                    NA\n",
       "1489                    NA\n",
       "1490                    NA\n",
       "1491    25 Seats available\n",
       "Name: Seat_Availability, Length: 1492, dtype: object"
      ]
     },
     "execution_count": 13,
     "metadata": {},
     "output_type": "execute_result"
    }
   ],
   "source": [
    "final_df[\"Seat_Availability\"].fillna(\"NA\")"
   ]
  },
  {
   "cell_type": "code",
   "execution_count": 14,
   "id": "812a52de-7515-4ba0-b509-d02090e9fb91",
   "metadata": {},
   "outputs": [],
   "source": [
    "#replacing all nan values\n",
    "final_df=final_df.replace({np.nan:None})"
   ]
  },
  {
   "cell_type": "code",
   "execution_count": 16,
   "id": "4148a224-1d74-4758-9c76-4c1ea5781451",
   "metadata": {},
   "outputs": [
    {
     "name": "stdout",
     "output_type": "stream",
     "text": [
      "saved\n"
     ]
    }
   ],
   "source": [
    "#changing dataframe to csv\n",
    "final_df.to_csv(\"Final_DataValues.csv\")\n",
    "print(\"saved\")\n"
   ]
  },
  {
   "cell_type": "code",
   "execution_count": 36,
   "id": "b7e5f4b0-45dc-4cff-adc4-40bcec69f4f4",
   "metadata": {},
   "outputs": [
    {
     "name": "stdout",
     "output_type": "stream",
     "text": [
      "                              Bus_name  \\\n",
      "24                        Galaxy Tours   \n",
      "82                         Sam Tourist   \n",
      "83    Kallada Travels (Suresh Kallada)   \n",
      "84                          A1 Travels   \n",
      "163              KSRTC (Kerala) - 1314   \n",
      "...                                ...   \n",
      "1486               Jamna Travels-Jammu   \n",
      "1487                 Jain travels regd   \n",
      "1488                 AdBhawani Travels   \n",
      "1489                   Bhawani Travels   \n",
      "1490               Jamna Travels-Jammu   \n",
      "\n",
      "                                      Bus_type Start_time End_time  \\\n",
      "24     2+1 Air Suspension A/C Seater / Sleeper      21:45    02:00   \n",
      "82                 NON AC Seater / Sleeper 2+1      00:45    07:05   \n",
      "83                           A/C Sleeper (2+1)      17:50    23:16   \n",
      "84               Bharat Benz A/C Sleeper (2+1)      18:15    23:30   \n",
      "163   Super Deluxe Non AC Seater Air Bus (2+2)      21:15    23:00   \n",
      "...                                        ...        ...      ...   \n",
      "1486                A/C Seater Push Back (2+2)      14:30    18:22   \n",
      "1487                          AC Sleeper (2+1)      15:15    20:00   \n",
      "1488              Bharat Benz A/C Seater (2+2)      18:30    23:15   \n",
      "1489              Bharat Benz A/C Seater (2+2)      16:30    21:05   \n",
      "1490                A/C Seater / Sleeper (2+2)      22:30    03:45   \n",
      "\n",
      "     Time_Duration  Rating  Prices Seat_Availability  \\\n",
      "24         04h 15m     2.9   700.0              None   \n",
      "82         06h 20m     4.0   599.0              None   \n",
      "83         05h 26m     2.5   600.0              None   \n",
      "84         05h 15m     2.8   400.0              None   \n",
      "163        01h 45m     4.1   894.0              None   \n",
      "...            ...     ...     ...               ...   \n",
      "1486       03h 52m     3.4   315.0              None   \n",
      "1487       04h 45m     3.3   500.0              None   \n",
      "1488       04h 45m     3.8   299.0              None   \n",
      "1489       04h 35m     3.3   299.0              None   \n",
      "1490       05h 15m     3.4   369.0              None   \n",
      "\n",
      "                          Route_name  \\\n",
      "24            Kozhikode to Ernakulam   \n",
      "82               Mysore to Kozhikode   \n",
      "83               Mysore to Kozhikode   \n",
      "84               Mysore to Kozhikode   \n",
      "163   Kozhikode to Kalpetta (kerala)   \n",
      "...                              ...   \n",
      "1486     Jammu (j and k) to Amritsar   \n",
      "1487     Jammu (j and k) to Amritsar   \n",
      "1488     Jammu (j and k) to Amritsar   \n",
      "1489     Jammu (j and k) to Amritsar   \n",
      "1490     Jammu (j and k) to Amritsar   \n",
      "\n",
      "                                             Route_link  \n",
      "24    https://www.redbus.in/bus-tickets/kozhikode-to...  \n",
      "82    https://www.redbus.in/bus-tickets/mysore-to-ko...  \n",
      "83    https://www.redbus.in/bus-tickets/mysore-to-ko...  \n",
      "84    https://www.redbus.in/bus-tickets/mysore-to-ko...  \n",
      "163   https://www.redbus.in/bus-tickets/kozhikode-to...  \n",
      "...                                                 ...  \n",
      "1486  https://www.redbus.in/bus-tickets/jammu-to-amr...  \n",
      "1487  https://www.redbus.in/bus-tickets/jammu-to-amr...  \n",
      "1488  https://www.redbus.in/bus-tickets/jammu-to-amr...  \n",
      "1489  https://www.redbus.in/bus-tickets/jammu-to-amr...  \n",
      "1490  https://www.redbus.in/bus-tickets/jammu-to-amr...  \n",
      "\n",
      "[464 rows x 10 columns]\n"
     ]
    }
   ],
   "source": [
    "# Check for null values in SEAT_AVAILABILITY\n",
    "print(final_df[final_df['Seat_Availability'].isnull()])"
   ]
  },
  {
   "cell_type": "code",
   "execution_count": 10,
   "id": "e0736636-8e79-45a5-9bcb-66b3d63efe10",
   "metadata": {},
   "outputs": [],
   "source": [
    "final_dropped_df=final_df.dropna()"
   ]
  },
  {
   "cell_type": "code",
   "execution_count": 11,
   "id": "7b7754cf-3955-4a9c-b8f0-9d10f7d41f38",
   "metadata": {},
   "outputs": [
    {
     "data": {
      "text/html": [
       "<div>\n",
       "<style scoped>\n",
       "    .dataframe tbody tr th:only-of-type {\n",
       "        vertical-align: middle;\n",
       "    }\n",
       "\n",
       "    .dataframe tbody tr th {\n",
       "        vertical-align: top;\n",
       "    }\n",
       "\n",
       "    .dataframe thead th {\n",
       "        text-align: right;\n",
       "    }\n",
       "</style>\n",
       "<table border=\"1\" class=\"dataframe\">\n",
       "  <thead>\n",
       "    <tr style=\"text-align: right;\">\n",
       "      <th></th>\n",
       "      <th>Bus_name</th>\n",
       "      <th>Bus_type</th>\n",
       "      <th>Start_time</th>\n",
       "      <th>End_time</th>\n",
       "      <th>Time_Duration</th>\n",
       "      <th>Rating</th>\n",
       "      <th>Prices</th>\n",
       "      <th>Seat_Availability</th>\n",
       "      <th>Route_name</th>\n",
       "      <th>Route_link</th>\n",
       "    </tr>\n",
       "  </thead>\n",
       "  <tbody>\n",
       "    <tr>\n",
       "      <th>0</th>\n",
       "      <td>MMK Travels</td>\n",
       "      <td>VE A/C Seater / Sleeper (2+1)</td>\n",
       "      <td>22:30</td>\n",
       "      <td>07:30</td>\n",
       "      <td>09h 00m</td>\n",
       "      <td>4.4</td>\n",
       "      <td>700.0</td>\n",
       "      <td>13 Seats available</td>\n",
       "      <td>Bangalore to Kozhikode</td>\n",
       "      <td>https://www.redbus.in/bus-tickets/bangalore-to...</td>\n",
       "    </tr>\n",
       "    <tr>\n",
       "      <th>1</th>\n",
       "      <td>Kyros Connect</td>\n",
       "      <td>Bharat Benz A/C Semi Sleeper (2+2)</td>\n",
       "      <td>23:00</td>\n",
       "      <td>09:00</td>\n",
       "      <td>10h 00m</td>\n",
       "      <td>4.2</td>\n",
       "      <td>599.0</td>\n",
       "      <td>26 Seats available</td>\n",
       "      <td>Bangalore to Kozhikode</td>\n",
       "      <td>https://www.redbus.in/bus-tickets/bangalore-to...</td>\n",
       "    </tr>\n",
       "    <tr>\n",
       "      <th>2</th>\n",
       "      <td>NS Transports</td>\n",
       "      <td>VE A/C Sleeper (2+1)</td>\n",
       "      <td>22:45</td>\n",
       "      <td>07:30</td>\n",
       "      <td>08h 45m</td>\n",
       "      <td>4.1</td>\n",
       "      <td>1000.0</td>\n",
       "      <td>2 Seats available</td>\n",
       "      <td>Bangalore to Kozhikode</td>\n",
       "      <td>https://www.redbus.in/bus-tickets/bangalore-to...</td>\n",
       "    </tr>\n",
       "    <tr>\n",
       "      <th>3</th>\n",
       "      <td>AdSAAM BUS</td>\n",
       "      <td>Bharat Benz A/C Sleeper (2+1)</td>\n",
       "      <td>20:10</td>\n",
       "      <td>06:45</td>\n",
       "      <td>10h 35m</td>\n",
       "      <td>4.1</td>\n",
       "      <td>785.0</td>\n",
       "      <td>3 Seats available</td>\n",
       "      <td>Bangalore to Kozhikode</td>\n",
       "      <td>https://www.redbus.in/bus-tickets/bangalore-to...</td>\n",
       "    </tr>\n",
       "    <tr>\n",
       "      <th>4</th>\n",
       "      <td>NS Transports</td>\n",
       "      <td>Non A/C Seater / Sleeper (2+1)</td>\n",
       "      <td>21:45</td>\n",
       "      <td>06:10</td>\n",
       "      <td>08h 25m</td>\n",
       "      <td>4.1</td>\n",
       "      <td>699.0</td>\n",
       "      <td>9 Seats available</td>\n",
       "      <td>Bangalore to Kozhikode</td>\n",
       "      <td>https://www.redbus.in/bus-tickets/bangalore-to...</td>\n",
       "    </tr>\n",
       "    <tr>\n",
       "      <th>...</th>\n",
       "      <td>...</td>\n",
       "      <td>...</td>\n",
       "      <td>...</td>\n",
       "      <td>...</td>\n",
       "      <td>...</td>\n",
       "      <td>...</td>\n",
       "      <td>...</td>\n",
       "      <td>...</td>\n",
       "      <td>...</td>\n",
       "      <td>...</td>\n",
       "    </tr>\n",
       "    <tr>\n",
       "      <th>1477</th>\n",
       "      <td>Laxmi holidays</td>\n",
       "      <td>Bharat Benz A/C Sleeper (2+1)</td>\n",
       "      <td>23:30</td>\n",
       "      <td>07:00</td>\n",
       "      <td>07h 30m</td>\n",
       "      <td>4.4</td>\n",
       "      <td>616.0</td>\n",
       "      <td>27 Seats available</td>\n",
       "      <td>Chandigarh to Jammu (j and k)</td>\n",
       "      <td>https://www.redbus.in/bus-tickets/chandigarh-t...</td>\n",
       "    </tr>\n",
       "    <tr>\n",
       "      <th>1478</th>\n",
       "      <td>AdRadhe Travels</td>\n",
       "      <td>Bharat Benz A/C Sleeper (2+1)</td>\n",
       "      <td>21:20</td>\n",
       "      <td>04:45</td>\n",
       "      <td>07h 25m</td>\n",
       "      <td>3.8</td>\n",
       "      <td>493.0</td>\n",
       "      <td>37 Seats available</td>\n",
       "      <td>Chandigarh to Jammu (j and k)</td>\n",
       "      <td>https://www.redbus.in/bus-tickets/chandigarh-t...</td>\n",
       "    </tr>\n",
       "    <tr>\n",
       "      <th>1479</th>\n",
       "      <td>Laxmi holidays</td>\n",
       "      <td>Bharat Benz A/C Seater /Sleeper (2+1)</td>\n",
       "      <td>22:50</td>\n",
       "      <td>06:00</td>\n",
       "      <td>07h 10m</td>\n",
       "      <td>4.4</td>\n",
       "      <td>570.0</td>\n",
       "      <td>23 Seats available</td>\n",
       "      <td>Chandigarh to Jammu (j and k)</td>\n",
       "      <td>https://www.redbus.in/bus-tickets/chandigarh-t...</td>\n",
       "    </tr>\n",
       "    <tr>\n",
       "      <th>1481</th>\n",
       "      <td>Jaspal Travels</td>\n",
       "      <td>AC Seater (2+2)</td>\n",
       "      <td>12:20</td>\n",
       "      <td>17:00</td>\n",
       "      <td>04h 40m</td>\n",
       "      <td>4.2</td>\n",
       "      <td>350.0</td>\n",
       "      <td>27 Seats available</td>\n",
       "      <td>Jammu (j and k) to Amritsar</td>\n",
       "      <td>https://www.redbus.in/bus-tickets/jammu-to-amr...</td>\n",
       "    </tr>\n",
       "    <tr>\n",
       "      <th>1491</th>\n",
       "      <td>Vijay Tour and Travels</td>\n",
       "      <td>AC Sleeper (2+1)</td>\n",
       "      <td>15:00</td>\n",
       "      <td>08:50</td>\n",
       "      <td>17h 50m</td>\n",
       "      <td>3.2</td>\n",
       "      <td>1480.0</td>\n",
       "      <td>25 Seats available</td>\n",
       "      <td>Ajmer to Jammu (j and k)</td>\n",
       "      <td>https://www.redbus.in/bus-tickets/ajmer-to-jammu</td>\n",
       "    </tr>\n",
       "  </tbody>\n",
       "</table>\n",
       "<p>1028 rows × 10 columns</p>\n",
       "</div>"
      ],
      "text/plain": [
       "                    Bus_name                               Bus_type  \\\n",
       "0                MMK Travels          VE A/C Seater / Sleeper (2+1)   \n",
       "1              Kyros Connect     Bharat Benz A/C Semi Sleeper (2+2)   \n",
       "2              NS Transports                   VE A/C Sleeper (2+1)   \n",
       "3                 AdSAAM BUS          Bharat Benz A/C Sleeper (2+1)   \n",
       "4              NS Transports         Non A/C Seater / Sleeper (2+1)   \n",
       "...                      ...                                    ...   \n",
       "1477          Laxmi holidays          Bharat Benz A/C Sleeper (2+1)   \n",
       "1478         AdRadhe Travels          Bharat Benz A/C Sleeper (2+1)   \n",
       "1479          Laxmi holidays  Bharat Benz A/C Seater /Sleeper (2+1)   \n",
       "1481          Jaspal Travels                        AC Seater (2+2)   \n",
       "1491  Vijay Tour and Travels                       AC Sleeper (2+1)   \n",
       "\n",
       "     Start_time End_time Time_Duration  Rating  Prices   Seat_Availability  \\\n",
       "0         22:30    07:30       09h 00m     4.4   700.0  13 Seats available   \n",
       "1         23:00    09:00       10h 00m     4.2   599.0  26 Seats available   \n",
       "2         22:45    07:30       08h 45m     4.1  1000.0   2 Seats available   \n",
       "3         20:10    06:45       10h 35m     4.1   785.0   3 Seats available   \n",
       "4         21:45    06:10       08h 25m     4.1   699.0   9 Seats available   \n",
       "...         ...      ...           ...     ...     ...                 ...   \n",
       "1477      23:30    07:00       07h 30m     4.4   616.0  27 Seats available   \n",
       "1478      21:20    04:45       07h 25m     3.8   493.0  37 Seats available   \n",
       "1479      22:50    06:00       07h 10m     4.4   570.0  23 Seats available   \n",
       "1481      12:20    17:00       04h 40m     4.2   350.0  27 Seats available   \n",
       "1491      15:00    08:50       17h 50m     3.2  1480.0  25 Seats available   \n",
       "\n",
       "                         Route_name  \\\n",
       "0            Bangalore to Kozhikode   \n",
       "1            Bangalore to Kozhikode   \n",
       "2            Bangalore to Kozhikode   \n",
       "3            Bangalore to Kozhikode   \n",
       "4            Bangalore to Kozhikode   \n",
       "...                             ...   \n",
       "1477  Chandigarh to Jammu (j and k)   \n",
       "1478  Chandigarh to Jammu (j and k)   \n",
       "1479  Chandigarh to Jammu (j and k)   \n",
       "1481    Jammu (j and k) to Amritsar   \n",
       "1491       Ajmer to Jammu (j and k)   \n",
       "\n",
       "                                             Route_link  \n",
       "0     https://www.redbus.in/bus-tickets/bangalore-to...  \n",
       "1     https://www.redbus.in/bus-tickets/bangalore-to...  \n",
       "2     https://www.redbus.in/bus-tickets/bangalore-to...  \n",
       "3     https://www.redbus.in/bus-tickets/bangalore-to...  \n",
       "4     https://www.redbus.in/bus-tickets/bangalore-to...  \n",
       "...                                                 ...  \n",
       "1477  https://www.redbus.in/bus-tickets/chandigarh-t...  \n",
       "1478  https://www.redbus.in/bus-tickets/chandigarh-t...  \n",
       "1479  https://www.redbus.in/bus-tickets/chandigarh-t...  \n",
       "1481  https://www.redbus.in/bus-tickets/jammu-to-amr...  \n",
       "1491   https://www.redbus.in/bus-tickets/ajmer-to-jammu  \n",
       "\n",
       "[1028 rows x 10 columns]"
      ]
     },
     "execution_count": 11,
     "metadata": {},
     "output_type": "execute_result"
    }
   ],
   "source": [
    "final_dropped_df"
   ]
  },
  {
   "cell_type": "code",
   "execution_count": 37,
   "id": "bfdc0297-1312-4d87-8602-187c5ad2de08",
   "metadata": {},
   "outputs": [
    {
     "name": "stderr",
     "output_type": "stream",
     "text": [
      "C:\\Users\\USER\\AppData\\Local\\Temp\\ipykernel_17784\\4183644364.py:1: FutureWarning: A value is trying to be set on a copy of a DataFrame or Series through chained assignment using an inplace method.\n",
      "The behavior will change in pandas 3.0. This inplace method will never work because the intermediate object on which we are setting values always behaves as a copy.\n",
      "\n",
      "For example, when doing 'df[col].method(value, inplace=True)', try using 'df.method({col: value}, inplace=True)' or df[col] = df[col].method(value) instead, to perform the operation inplace on the original object.\n",
      "\n",
      "\n",
      "  final_df['Seat_Availability'].fillna(0, inplace=True)\n"
     ]
    }
   ],
   "source": [
    "final_df['Seat_Availability'].fillna(0, inplace=True) "
   ]
  },
  {
   "cell_type": "code",
   "execution_count": 35,
   "id": "78955abf-739b-489a-b62a-bf803414f552",
   "metadata": {},
   "outputs": [
    {
     "name": "stdout",
     "output_type": "stream",
     "text": [
      "Index(['Bus_name', 'Bus_type', 'Start_time', 'End_time', 'Time_Duration',\n",
      "       'Rating', 'Prices', 'Seat_Availability', 'Route_name', 'Route_link'],\n",
      "      dtype='object')\n"
     ]
    }
   ],
   "source": [
    "print(final_df.columns)\n"
   ]
  },
  {
   "cell_type": "code",
   "execution_count": 39,
   "id": "2e6ae87b-6980-4496-98c8-d799bd087604",
   "metadata": {},
   "outputs": [
    {
     "name": "stderr",
     "output_type": "stream",
     "text": [
      "C:\\Users\\USER\\AppData\\Local\\Temp\\ipykernel_17784\\792154681.py:1: FutureWarning: A value is trying to be set on a copy of a DataFrame or Series through chained assignment using an inplace method.\n",
      "The behavior will change in pandas 3.0. This inplace method will never work because the intermediate object on which we are setting values always behaves as a copy.\n",
      "\n",
      "For example, when doing 'df[col].method(value, inplace=True)', try using 'df.method({col: value}, inplace=True)' or df[col] = df[col].method(value) instead, to perform the operation inplace on the original object.\n",
      "\n",
      "\n",
      "  final_df['Bus_name'].fillna(\"unknown\", inplace=True)\n"
     ]
    }
   ],
   "source": [
    "#final_df['Bus_name'].fillna(\"unknown\", inplace=True) "
   ]
  },
  {
   "cell_type": "code",
   "execution_count": 41,
   "id": "ff21c03c-3f04-4f86-8055-3f6c79dcbf39",
   "metadata": {},
   "outputs": [
    {
     "name": "stderr",
     "output_type": "stream",
     "text": [
      "C:\\Users\\USER\\AppData\\Local\\Temp\\ipykernel_17784\\2756061367.py:1: FutureWarning: A value is trying to be set on a copy of a DataFrame or Series through chained assignment using an inplace method.\n",
      "The behavior will change in pandas 3.0. This inplace method will never work because the intermediate object on which we are setting values always behaves as a copy.\n",
      "\n",
      "For example, when doing 'df[col].method(value, inplace=True)', try using 'df.method({col: value}, inplace=True)' or df[col] = df[col].method(value) instead, to perform the operation inplace on the original object.\n",
      "\n",
      "\n",
      "  final_df['Bus_type'].fillna(\"unknown\", inplace=True)\n"
     ]
    }
   ],
   "source": [
    "#final_df['Bus_type'].fillna(\"unknown\", inplace=True) "
   ]
  },
  {
   "cell_type": "code",
   "execution_count": 42,
   "id": "a01755e5-63ce-4106-b18b-fbe4d1575d18",
   "metadata": {},
   "outputs": [
    {
     "name": "stderr",
     "output_type": "stream",
     "text": [
      "C:\\Users\\USER\\AppData\\Local\\Temp\\ipykernel_17784\\1181131407.py:1: FutureWarning: A value is trying to be set on a copy of a DataFrame or Series through chained assignment using an inplace method.\n",
      "The behavior will change in pandas 3.0. This inplace method will never work because the intermediate object on which we are setting values always behaves as a copy.\n",
      "\n",
      "For example, when doing 'df[col].method(value, inplace=True)', try using 'df.method({col: value}, inplace=True)' or df[col] = df[col].method(value) instead, to perform the operation inplace on the original object.\n",
      "\n",
      "\n",
      "  final_df['Start_time'].fillna(\"unknown\", inplace=True)\n"
     ]
    }
   ],
   "source": [
    "#final_df['Start_time'].fillna(\"unknown\", inplace=True) \n"
   ]
  },
  {
   "cell_type": "code",
   "execution_count": 43,
   "id": "4cc59033-4660-425c-b349-aaebca1434f9",
   "metadata": {},
   "outputs": [
    {
     "name": "stderr",
     "output_type": "stream",
     "text": [
      "C:\\Users\\USER\\AppData\\Local\\Temp\\ipykernel_17784\\1945352957.py:1: FutureWarning: A value is trying to be set on a copy of a DataFrame or Series through chained assignment using an inplace method.\n",
      "The behavior will change in pandas 3.0. This inplace method will never work because the intermediate object on which we are setting values always behaves as a copy.\n",
      "\n",
      "For example, when doing 'df[col].method(value, inplace=True)', try using 'df.method({col: value}, inplace=True)' or df[col] = df[col].method(value) instead, to perform the operation inplace on the original object.\n",
      "\n",
      "\n",
      "  final_df['End_time'].fillna(\"unknown\", inplace=True)\n"
     ]
    }
   ],
   "source": [
    "#final_df['End_time'].fillna(\"unknown\", inplace=True) \n"
   ]
  },
  {
   "cell_type": "code",
   "execution_count": 44,
   "id": "4603419a-3ae1-49e6-9d3f-a5537b316939",
   "metadata": {},
   "outputs": [
    {
     "name": "stderr",
     "output_type": "stream",
     "text": [
      "C:\\Users\\USER\\AppData\\Local\\Temp\\ipykernel_17784\\2782976055.py:1: FutureWarning: A value is trying to be set on a copy of a DataFrame or Series through chained assignment using an inplace method.\n",
      "The behavior will change in pandas 3.0. This inplace method will never work because the intermediate object on which we are setting values always behaves as a copy.\n",
      "\n",
      "For example, when doing 'df[col].method(value, inplace=True)', try using 'df.method({col: value}, inplace=True)' or df[col] = df[col].method(value) instead, to perform the operation inplace on the original object.\n",
      "\n",
      "\n",
      "  final_df['Time_Duration'].fillna(\"unknown\", inplace=True)\n"
     ]
    }
   ],
   "source": [
    "#final_df['Time_Duration'].fillna(\"unknown\", inplace=True) \n"
   ]
  },
  {
   "cell_type": "markdown",
   "id": "e15939e7-72cb-42ee-83e1-5182ae31a1ba",
   "metadata": {},
   "source": [
    "#CREATEING MYSQL CONNECTION"
   ]
  },
  {
   "cell_type": "code",
   "execution_count": 12,
   "id": "6c7111a4-3e2a-4bf3-811c-6aafed91a266",
   "metadata": {},
   "outputs": [],
   "source": [
    "conn=mysql.connector.connect(host=\"localhost\",user=\"root\",password=\"Jsi@112214\",database=\"REDBUS_DETAILS\")\n",
    "my_cursor=conn.cursor()\n",
    "my_cursor.execute(\"CREATE DATABASE IF NOT EXISTS REDBUS_DETAILS\")\n"
   ]
  },
  {
   "cell_type": "code",
   "execution_count": 13,
   "id": "5b522aa5-88ff-4bcb-8255-7482200e6aff",
   "metadata": {},
   "outputs": [
    {
     "name": "stdout",
     "output_type": "stream",
     "text": [
      "table created\n"
     ]
    }
   ],
   "source": [
    "#TABLE CREATIONS:\n",
    "my_cursor.execute('''CREATE TABLE IF NOT EXISTS BUS_DETAILS(ID INT AUTO_INCREMENT PRIMARY KEY,\n",
    "                    Bus_name VARCHAR(300) NOT NULL,\n",
    "                    BUS_TYPE VARCHAR(300) NOT NULL,\n",
    "                    START_TIME VARCHAR(300) NOT NULL,\n",
    "                    END_TIME VARCHAR(200) NOT NULL,\n",
    "                    TIME_DURATION VARCHAR(300) NOT NULL,\n",
    "                    RATING FLOAT NULL,\n",
    "                    PRICES FLOAT NULL,\n",
    "                    SEAT_AVAILABILITY VARCHAR(300) NOT NULL,\n",
    "                    ROUTE_NAME VARCHAR(300) NOT NULL,\n",
    "                    ROUTE_LINK VARCHAR(300) NOT NULL)''')\n",
    "print(\"table created\")\n",
    "                    "
   ]
  },
  {
   "cell_type": "code",
   "execution_count": 14,
   "id": "174fda37-8f85-401e-ae09-272fa586852b",
   "metadata": {},
   "outputs": [
    {
     "name": "stdout",
     "output_type": "stream",
     "text": [
      "values inserted \n"
     ]
    }
   ],
   "source": [
    "#insert values into bus details:\n",
    "insert_query = '''INSERT INTO BUS_DETAILS(Bus_name,BUS_TYPE,START_TIME,END_TIME,TIME_DURATION,RATING,PRICES,SEAT_AVAILABILITY,ROUTE_NAME,ROUTE_LINK)\n",
    "                  VALUES(%s, %s, %s, %s, %s, %s, %s, %s, %s, %s)'''\n",
    "\n",
    "data = [tuple(x) for x in final_dropped_df.values]\n",
    "my_cursor.executemany(insert_query,data)\n",
    "conn.commit()\n",
    "print(\"values inserted \")\n",
    "                "
   ]
  },
  {
   "cell_type": "code",
   "execution_count": null,
   "id": "07a4c507-88cd-4b1b-a292-928fe173ea50",
   "metadata": {},
   "outputs": [],
   "source": []
  }
 ],
 "metadata": {
  "kernelspec": {
   "display_name": "Python 3 (ipykernel)",
   "language": "python",
   "name": "python3"
  },
  "language_info": {
   "codemirror_mode": {
    "name": "ipython",
    "version": 3
   },
   "file_extension": ".py",
   "mimetype": "text/x-python",
   "name": "python",
   "nbconvert_exporter": "python",
   "pygments_lexer": "ipython3",
   "version": "3.12.4"
  }
 },
 "nbformat": 4,
 "nbformat_minor": 5
}
